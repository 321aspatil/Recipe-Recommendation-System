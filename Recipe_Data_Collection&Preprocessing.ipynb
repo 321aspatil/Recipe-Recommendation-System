{
 "cells": [
  {
   "cell_type": "code",
   "execution_count": 1,
   "id": "a38d33e2-7eea-4382-98cc-fea96f86a943",
   "metadata": {},
   "outputs": [
    {
     "name": "stderr",
     "output_type": "stream",
     "text": [
      "2024-10-11 19:00:08.550834: I external/local_tsl/tsl/cuda/cudart_stub.cc:32] Could not find cuda drivers on your machine, GPU will not be used.\n",
      "2024-10-11 19:00:08.727613: I external/local_tsl/tsl/cuda/cudart_stub.cc:32] Could not find cuda drivers on your machine, GPU will not be used.\n",
      "2024-10-11 19:00:08.976819: E external/local_xla/xla/stream_executor/cuda/cuda_fft.cc:479] Unable to register cuFFT factory: Attempting to register factory for plugin cuFFT when one has already been registered\n",
      "2024-10-11 19:00:09.311727: E external/local_xla/xla/stream_executor/cuda/cuda_dnn.cc:10575] Unable to register cuDNN factory: Attempting to register factory for plugin cuDNN when one has already been registered\n",
      "2024-10-11 19:00:09.312966: E external/local_xla/xla/stream_executor/cuda/cuda_blas.cc:1442] Unable to register cuBLAS factory: Attempting to register factory for plugin cuBLAS when one has already been registered\n",
      "2024-10-11 19:00:09.653198: I tensorflow/core/platform/cpu_feature_guard.cc:210] This TensorFlow binary is optimized to use available CPU instructions in performance-critical operations.\n",
      "To enable the following instructions: AVX2 FMA, in other operations, rebuild TensorFlow with the appropriate compiler flags.\n",
      "2024-10-11 19:00:12.688392: W tensorflow/compiler/tf2tensorrt/utils/py_utils.cc:38] TF-TRT Warning: Could not find TensorRT\n"
     ]
    }
   ],
   "source": [
    "import pandas as pd\n",
    "import matplotlib.pyplot as plt\n",
    "import matplotlib.gridspec as gridspec\n",
    "import ast\n",
    "from sklearn import preprocessing\n",
    "import numpy as np\n",
    "from sklearn.preprocessing import normalize\n",
    "from keras.preprocessing import image\n",
    "from time import time\n",
    "from scipy.spatial.distance import cosine, euclidean, hamming"
   ]
  },
  {
   "cell_type": "markdown",
   "id": "d643fccf-908e-4ccc-a24b-77560d2ba7cf",
   "metadata": {},
   "source": [
    "#### dataset linl:https://www.kaggle.com/datasets/elisaxxygao/foodrecsysv1/data"
   ]
  },
  {
   "cell_type": "code",
   "execution_count": 3,
   "id": "d840361d-b1fb-4435-903f-5a243e8067e2",
   "metadata": {
    "scrolled": true
   },
   "outputs": [
    {
     "data": {
      "text/html": [
       "<div>\n",
       "<style scoped>\n",
       "    .dataframe tbody tr th:only-of-type {\n",
       "        vertical-align: middle;\n",
       "    }\n",
       "\n",
       "    .dataframe tbody tr th {\n",
       "        vertical-align: top;\n",
       "    }\n",
       "\n",
       "    .dataframe thead th {\n",
       "        text-align: right;\n",
       "    }\n",
       "</style>\n",
       "<table border=\"1\" class=\"dataframe\">\n",
       "  <thead>\n",
       "    <tr style=\"text-align: right;\">\n",
       "      <th></th>\n",
       "      <th>recipe_id</th>\n",
       "      <th>recipe_name</th>\n",
       "      <th>aver_rate</th>\n",
       "      <th>image_url</th>\n",
       "      <th>review_nums</th>\n",
       "      <th>ingredients</th>\n",
       "      <th>cooking_directions</th>\n",
       "      <th>nutritions</th>\n",
       "      <th>reviews</th>\n",
       "    </tr>\n",
       "  </thead>\n",
       "  <tbody>\n",
       "    <tr>\n",
       "      <th>0</th>\n",
       "      <td>222388</td>\n",
       "      <td>Homemade Bacon</td>\n",
       "      <td>5.000000</td>\n",
       "      <td>https://images.media-allrecipes.com/userphotos...</td>\n",
       "      <td>3</td>\n",
       "      <td>pork belly^smoked paprika^kosher salt^ground b...</td>\n",
       "      <td>{'directions': u'Prep\\n5 m\\nCook\\n2 h 45 m\\nRe...</td>\n",
       "      <td>{u'niacin': {u'hasCompleteData': False, u'name...</td>\n",
       "      <td>{8542392: {'rating': 5, 'followersCount': 11, ...</td>\n",
       "    </tr>\n",
       "    <tr>\n",
       "      <th>1</th>\n",
       "      <td>240488</td>\n",
       "      <td>Pork Loin, Apples, and Sauerkraut</td>\n",
       "      <td>4.764706</td>\n",
       "      <td>https://images.media-allrecipes.com/userphotos...</td>\n",
       "      <td>29</td>\n",
       "      <td>sauerkraut drained^Granny Smith apples sliced^...</td>\n",
       "      <td>{'directions': u'Prep\\n15 m\\nCook\\n2 h 30 m\\nR...</td>\n",
       "      <td>{u'niacin': {u'hasCompleteData': False, u'name...</td>\n",
       "      <td>{3574785: {'rating': 5, 'followersCount': 0, '...</td>\n",
       "    </tr>\n",
       "    <tr>\n",
       "      <th>2</th>\n",
       "      <td>218939</td>\n",
       "      <td>Foolproof Rosemary Chicken Wings</td>\n",
       "      <td>4.571429</td>\n",
       "      <td>https://images.media-allrecipes.com/userphotos...</td>\n",
       "      <td>12</td>\n",
       "      <td>chicken wings^sprigs rosemary^head garlic^oliv...</td>\n",
       "      <td>{'directions': u\"Prep\\n20 m\\nCook\\n40 m\\nReady...</td>\n",
       "      <td>{u'niacin': {u'hasCompleteData': True, u'name'...</td>\n",
       "      <td>{13774946: {'rating': 5, 'followersCount': 0, ...</td>\n",
       "    </tr>\n",
       "    <tr>\n",
       "      <th>3</th>\n",
       "      <td>87211</td>\n",
       "      <td>Chicken Pesto Paninis</td>\n",
       "      <td>4.625000</td>\n",
       "      <td>https://images.media-allrecipes.com/userphotos...</td>\n",
       "      <td>163</td>\n",
       "      <td>focaccia bread quartered^prepared basil pesto^...</td>\n",
       "      <td>{'directions': u'Prep\\n15 m\\nCook\\n5 m\\nReady ...</td>\n",
       "      <td>{u'niacin': {u'hasCompleteData': True, u'name'...</td>\n",
       "      <td>{1563136: {'rating': 5, 'followersCount': 0, '...</td>\n",
       "    </tr>\n",
       "    <tr>\n",
       "      <th>4</th>\n",
       "      <td>245714</td>\n",
       "      <td>Potato Bacon Pizza</td>\n",
       "      <td>4.500000</td>\n",
       "      <td>https://images.media-allrecipes.com/userphotos...</td>\n",
       "      <td>2</td>\n",
       "      <td>red potatoes^strips bacon^Sauce:^heavy whippin...</td>\n",
       "      <td>{'directions': u'Prep\\n20 m\\nCook\\n45 m\\nReady...</td>\n",
       "      <td>{u'niacin': {u'hasCompleteData': True, u'name'...</td>\n",
       "      <td>{2945555: {'rating': 5, 'followersCount': 6690...</td>\n",
       "    </tr>\n",
       "  </tbody>\n",
       "</table>\n",
       "</div>"
      ],
      "text/plain": [
       "   recipe_id                        recipe_name  aver_rate  \\\n",
       "0     222388                     Homemade Bacon   5.000000   \n",
       "1     240488  Pork Loin, Apples, and Sauerkraut   4.764706   \n",
       "2     218939   Foolproof Rosemary Chicken Wings   4.571429   \n",
       "3      87211              Chicken Pesto Paninis   4.625000   \n",
       "4     245714                 Potato Bacon Pizza   4.500000   \n",
       "\n",
       "                                           image_url  review_nums  \\\n",
       "0  https://images.media-allrecipes.com/userphotos...            3   \n",
       "1  https://images.media-allrecipes.com/userphotos...           29   \n",
       "2  https://images.media-allrecipes.com/userphotos...           12   \n",
       "3  https://images.media-allrecipes.com/userphotos...          163   \n",
       "4  https://images.media-allrecipes.com/userphotos...            2   \n",
       "\n",
       "                                         ingredients  \\\n",
       "0  pork belly^smoked paprika^kosher salt^ground b...   \n",
       "1  sauerkraut drained^Granny Smith apples sliced^...   \n",
       "2  chicken wings^sprigs rosemary^head garlic^oliv...   \n",
       "3  focaccia bread quartered^prepared basil pesto^...   \n",
       "4  red potatoes^strips bacon^Sauce:^heavy whippin...   \n",
       "\n",
       "                                  cooking_directions  \\\n",
       "0  {'directions': u'Prep\\n5 m\\nCook\\n2 h 45 m\\nRe...   \n",
       "1  {'directions': u'Prep\\n15 m\\nCook\\n2 h 30 m\\nR...   \n",
       "2  {'directions': u\"Prep\\n20 m\\nCook\\n40 m\\nReady...   \n",
       "3  {'directions': u'Prep\\n15 m\\nCook\\n5 m\\nReady ...   \n",
       "4  {'directions': u'Prep\\n20 m\\nCook\\n45 m\\nReady...   \n",
       "\n",
       "                                          nutritions  \\\n",
       "0  {u'niacin': {u'hasCompleteData': False, u'name...   \n",
       "1  {u'niacin': {u'hasCompleteData': False, u'name...   \n",
       "2  {u'niacin': {u'hasCompleteData': True, u'name'...   \n",
       "3  {u'niacin': {u'hasCompleteData': True, u'name'...   \n",
       "4  {u'niacin': {u'hasCompleteData': True, u'name'...   \n",
       "\n",
       "                                             reviews  \n",
       "0  {8542392: {'rating': 5, 'followersCount': 11, ...  \n",
       "1  {3574785: {'rating': 5, 'followersCount': 0, '...  \n",
       "2  {13774946: {'rating': 5, 'followersCount': 0, ...  \n",
       "3  {1563136: {'rating': 5, 'followersCount': 0, '...  \n",
       "4  {2945555: {'rating': 5, 'followersCount': 6690...  "
      ]
     },
     "execution_count": 3,
     "metadata": {},
     "output_type": "execute_result"
    }
   ],
   "source": [
    "recipe = pd.read_csv('archive/raw-data_recipe.csv')\n",
    "recipe.head()"
   ]
  },
  {
   "cell_type": "markdown",
   "id": "3b3a3855-1290-4b7c-91ce-5dd0420a9397",
   "metadata": {},
   "source": [
    "#### Directions of recipe based on recipe_id"
   ]
  },
  {
   "cell_type": "code",
   "execution_count": 20,
   "id": "a52d5cec-0338-42aa-b16a-4e2a14be9699",
   "metadata": {},
   "outputs": [
    {
     "name": "stdout",
     "output_type": "stream",
     "text": [
      "Prep\n",
      "20 m\n",
      "Cook\n",
      "40 m\n",
      "Ready In\n",
      "1 h\n",
      "Preheat an oven to 350 degrees F (175 degrees C).\n",
      "Arrange the chicken wings, rosemary, and garlic cloves on a broiler-proof baking sheet, making sure the chicken pieces are not touching. Drizzle the olive oil over the chicken and garlic. Season the wings on all sides with the lemon pepper and seasoned salt.\n",
      "Bake in the preheated oven until chicken meat is no longer pink at the bone and the juices run clear, 35 to 40 minutes, turning the wings once about halfway through the cooking time. An instant-read thermometer inserted into the thickest part of a wing should read at least 160 degrees F (70 degrees C).\n",
      "Take the baking sheet from the oven and set the oven's broiler to High. Remove the garlic and rosemary from the sheet and set aside. Turn the wings again.\n",
      "Broil the wings until golden brown, about 5 minutes. Garnish with the rosemary sprigs and garlic to serve.\n"
     ]
    }
   ],
   "source": [
    "import ast\n",
    "\n",
    "# Assuming `recipe` is a DataFrame with a 'recipe_id' and 'cooking_directions' column\n",
    "# Filter the DataFrame for the specific recipe_id and get the 'cooking_directions' string\n",
    "recipe_str = recipe[recipe['recipe_id'] == 218939]['cooking_directions'].iloc[0]\n",
    "\n",
    "# Use ast.literal_eval to convert the string into a dictionary\n",
    "recipe_dict = ast.literal_eval(recipe_str)\n",
    "\n",
    "# Access the 'directions' value\n",
    "directions = recipe_dict['directions']\n",
    "\n",
    "# Print the directions\n",
    "print(directions)\n",
    "\n",
    "\n"
   ]
  },
  {
   "cell_type": "code",
   "execution_count": 22,
   "id": "e2624aed-1699-4f1e-9099-b3c20f006c27",
   "metadata": {
    "scrolled": true
   },
   "outputs": [
    {
     "name": "stdout",
     "output_type": "stream",
     "text": [
      "Cooking Directions for Homemade Bacon:\n",
      "Prep\n",
      "5 m\n",
      "Cook\n",
      "2 h 45 m\n",
      "Ready In\n",
      "11 h 50 m\n",
      "Preheat oven to 200 degrees F (95 degrees C).\n",
      "Season pork belly with paprika, salt, and pepper. Tightly wrap pork twice in heavy-duty aluminum foil. Place on a baking sheet and bake in the preheated oven for 2 1/2 hours. Turn off the oven; let pork rest in the oven for 1 hour. Remove meat from oven, leaving it wrapped in aluminum foil, and refrigerate at least 8 hours or overnight.\n",
      "Remove pork from foil and slice across the grain in 1/4-inch thick slices. Working in batches, cook pork in a non-stick skillet over medium heat until golden and crisped, 6 to 8 minutes per slice.\n"
     ]
    }
   ],
   "source": [
    "import ast\n",
    "\n",
    "# Define a function to extract and print cooking directions based on recipe_id\n",
    "def get_cooking_directions(recipe_df, recipe_id):\n",
    "    try:\n",
    "        # Filter the DataFrame to find the row corresponding to the given recipe_id\n",
    "        recipe_str = recipe_df[recipe_df['recipe_id'] == recipe_id]['cooking_directions'].iloc[0]\n",
    "        recipe_name=recipe_df[recipe_df['recipe_id'] == recipe_id]['recipe_name'].iloc[0]\n",
    "        # Use ast.literal_eval to convert the string into a dictionary\n",
    "        recipe_dict = ast.literal_eval(recipe_str)\n",
    "\n",
    "        # Access the 'directions' value from the dictionary\n",
    "        directions = recipe_dict.get('directions', 'Directions not found')\n",
    "\n",
    "        # Print the cooking directions\n",
    "        print(f\"Cooking Directions for {recipe_name}:\\n{directions}\")\n",
    "\n",
    "    except IndexError:\n",
    "        print(f\"Error: Recipe ID {recipe_id} not found.\")\n",
    "    except ValueError:\n",
    "        print(\"Error: Unable to parse the recipe directions.\")\n",
    "\n",
    "# Example usage:\n",
    "# Assuming `recipe_df` is a DataFrame that contains 'recipe_id' and 'cooking_directions' columns\n",
    "# Call the function with a DataFrame and recipe_id\n",
    "get_cooking_directions(recipe, 222388)\n"
   ]
  },
  {
   "cell_type": "code",
   "execution_count": null,
   "id": "3dce9635-b42d-4427-988a-2ae9de1eaa25",
   "metadata": {},
   "outputs": [],
   "source": []
  },
  {
   "cell_type": "code",
   "execution_count": null,
   "id": "e98a77f7-e80d-4932-b859-937a932bef5a",
   "metadata": {},
   "outputs": [],
   "source": [
    "recipe.shape"
   ]
  },
  {
   "cell_type": "code",
   "execution_count": null,
   "id": "527063dc-7204-4bc8-a352-c76fc5dfa161",
   "metadata": {},
   "outputs": [],
   "source": [
    "recipe.isna().sum()"
   ]
  },
  {
   "cell_type": "code",
   "execution_count": null,
   "id": "9bda3e65-5774-4caf-a2cb-90d9b3d99ea5",
   "metadata": {},
   "outputs": [],
   "source": [
    "# recipe = recipe.drop(columns=['cooking_directions', 'reviews'])"
   ]
  },
  {
   "cell_type": "code",
   "execution_count": null,
   "id": "d391f829-ab6e-4f8d-987d-a2dd9775401f",
   "metadata": {
    "scrolled": true
   },
   "outputs": [],
   "source": [
    "recipe.shape"
   ]
  },
  {
   "cell_type": "code",
   "execution_count": null,
   "id": "bb198024-39a6-47c6-a50c-cc87cda16015",
   "metadata": {},
   "outputs": [],
   "source": []
  },
  {
   "cell_type": "code",
   "execution_count": null,
   "id": "38150570-d72a-4cdb-bf52-31ee1171d79f",
   "metadata": {},
   "outputs": [],
   "source": [
    "# round average rating into 2 decimal places\n",
    "def avg_rate(col):\n",
    "    return f'{col:.2f}'\n",
    "recipe.aver_rate = recipe.aver_rate.apply(avg_rate)\n",
    "recipe.head()"
   ]
  },
  {
   "cell_type": "code",
   "execution_count": null,
   "id": "88a3a959-d9a3-45cf-8876-8e0fbb9a0d5c",
   "metadata": {},
   "outputs": [],
   "source": [
    "recipe.aver_rate = recipe.aver_rate.astype(float)\n",
    "recipe.dtypes\n",
    "list_of_dict = []\n",
    "\n",
    "for row in recipe.nutritions:\n",
    "    list_of_dict.append(ast.literal_eval(row))\n",
    "list_of_dict[1]\n",
    "\n",
    "\n",
    "# extract percent daily values for selected nutritions\n",
    "calories_list = []\n",
    "fat_list = []\n",
    "carbohydrates_list = []\n",
    "protein_list = []\n",
    "cholesterol_list = []\n",
    "sodium_list = []\n",
    "fiber_list = []\n",
    "\n",
    "for x in range(len(list_of_dict)):\n",
    "    calories_list.append(list_of_dict[x]['calories']['percentDailyValue'])\n",
    "    fat_list.append(list_of_dict[x]['fat']['percentDailyValue'])\n",
    "    carbohydrates_list.append(list_of_dict[x]['carbohydrates']['percentDailyValue'])\n",
    "    protein_list.append(list_of_dict[x]['protein']['percentDailyValue'])\n",
    "    cholesterol_list.append(list_of_dict[x]['cholesterol']['percentDailyValue'])\n",
    "    sodium_list.append(list_of_dict[x]['sodium']['percentDailyValue'])\n",
    "    fiber_list.append(list_of_dict[x]['fiber']['percentDailyValue'])\n",
    "    \n",
    "    \n",
    "# group all the data into dataframe\n",
    "data = {'calories': calories_list, 'fat': fat_list, 'carbohydrates': carbohydrates_list, \n",
    "       'protein': protein_list, 'cholesterol': cholesterol_list, 'sodium': sodium_list, \n",
    "       'fiber': fiber_list}\n",
    "\n",
    "df = pd.DataFrame(data)\n",
    "df.index = recipe['recipe_id']\n",
    "df.head()"
   ]
  },
  {
   "cell_type": "code",
   "execution_count": null,
   "id": "49ea4366-cf4e-4b3b-9538-73ba574c20ce",
   "metadata": {},
   "outputs": [],
   "source": [
    "print(df.shape)\n",
    "df = df.dropna()\n",
    "def text_cleaning(cols):\n",
    "    if cols == '< 1':\n",
    "        return 1\n",
    "    else:\n",
    "        return cols\n",
    "\n",
    "for col in df.columns:\n",
    "    df[col] = df[col].apply(text_cleaning)\n",
    "df = df.apply(pd.to_numeric)\n",
    "# normalized nutrition data by columns\n",
    "df_normalized = pd.DataFrame(normalize(df, axis=0))\n",
    "df_normalized.columns = df.columns\n",
    "df_normalized.index = df.index\n",
    "df_normalized.head()\n",
    "\n",
    "\n",
    "# show recipe id, recipe name and image of selected recipe\n",
    "def selected_recipe(recipe_id):\n",
    "    image_path = \"archive/raw-data-images/raw-data-images/{}.jpg\"\n",
    "    image_path = image_path.format(recipe_id)\n",
    "    \n",
    "    img = image.load_img(image_path)\n",
    "    img = image.img_to_array(img, dtype='int')\n",
    "        \n",
    "    fig, ax = plt.subplots(1,1)\n",
    "    ax.imshow(img)\n",
    "    ax.axis('off')\n",
    "    \n",
    "    recipe_df = recipe.set_index('recipe_id')\n",
    "    x = \"{}  {}\".format(recipe_id, recipe_df.at[recipe_id, 'recipe_name'])\n",
    "    ax.set_title(x)\n",
    "    \n",
    "    print(df.loc[df.index.isin([recipe_id])].transpose())\n",
    "    \n",
    "selected_recipe(240488)\n",
    "\n",
    "\n",
    "recipe_final= pd.merge(recipe, df, on='recipe_id')\n",
    "recipe_final= recipe_final.drop(columns=['nutritions'])\n",
    "\n",
    "recipe_final.to_csv(\"recipe_final_full.csv\")"
   ]
  },
  {
   "cell_type": "code",
   "execution_count": null,
   "id": "088833b7-da84-43c4-ba3a-6aa8152d7d43",
   "metadata": {},
   "outputs": [],
   "source": [
    "ingredients_list = []\n",
    "\n",
    "for x in range(len(recipe_final)):\n",
    "    ingredients_list.append(recipe_final['ingredients'][x].split('^'))\n",
    "data = {'ingredients_list': ingredients_list}\n",
    "df1 = pd.DataFrame(data)\n",
    "df1.index = recipe_final['recipe_id']\n",
    "df1.head()\n",
    "\n",
    "recipe_final= pd.merge(recipe_final, df1, on='recipe_id')\n",
    "recipe_final= recipe_final.drop(columns=['ingredients'])\n",
    "recipe_final.head()\n",
    "\n",
    "recipe_final.to_csv(\"recipe_final.csv\")\n"
   ]
  },
  {
   "cell_type": "code",
   "execution_count": null,
   "id": "74da230e-4e65-4a97-886e-885f1f4b4879",
   "metadata": {
    "scrolled": true
   },
   "outputs": [],
   "source": [
    "final_df1=pd.read_csv('recipe_final_full.csv')\n",
    "final_df1"
   ]
  },
  {
   "cell_type": "code",
   "execution_count": null,
   "id": "ab2259c1-c05d-4863-b790-b391e374762d",
   "metadata": {},
   "outputs": [],
   "source": [
    "#checking for cooking directions\n",
    "get_cooking_directions(final_df1,222388)"
   ]
  },
  {
   "cell_type": "code",
   "execution_count": null,
   "id": "950185ae-7011-4890-a1e0-c354c302b9ea",
   "metadata": {},
   "outputs": [],
   "source": [
    "final_df2=pd.read_csv('recipe_final.csv')\n",
    "final_df2"
   ]
  },
  {
   "cell_type": "code",
   "execution_count": null,
   "id": "62ba8d2d-a4ac-47ec-8411-b9e58a9198e1",
   "metadata": {},
   "outputs": [],
   "source": []
  }
 ],
 "metadata": {
  "kernelspec": {
   "display_name": "Python 3 (ipykernel)",
   "language": "python",
   "name": "python3"
  },
  "language_info": {
   "codemirror_mode": {
    "name": "ipython",
    "version": 3
   },
   "file_extension": ".py",
   "mimetype": "text/x-python",
   "name": "python",
   "nbconvert_exporter": "python",
   "pygments_lexer": "ipython3",
   "version": "3.12.4"
  }
 },
 "nbformat": 4,
 "nbformat_minor": 5
}
